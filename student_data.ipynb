{
 "cells": [
  {
   "cell_type": "code",
   "execution_count": 41,
   "id": "30ef31d1-4751-4864-9679-c99074ad3306",
   "metadata": {},
   "outputs": [
    {
     "name": "stdout",
     "output_type": "stream",
     "text": [
      "   ID     name      city  Contact details  Stream  Marks1  Marks2  Marks3  \\\n",
      "0   1    Rahul     Delhi     9.898984e+09     BCA      80      70      85   \n",
      "1   2    Ankit    Mumbai     8.995458e+10     MCA      75      80      90   \n",
      "2   3   Gaurav   Kolkata     8.565745e+09     BBA      85      75      80   \n",
      "3   4  Shubham  Banglore     4.687596e+09  B.Tech      90      85      75   \n",
      "4   5   Saurav   Chennai     8.754627e+09     MBA      70      90      85   \n",
      "5   6    Priya      Pune     8.574857e+09  M.Tech      80      34      90   \n",
      "6   7   Anjali    Rajkot     7.484859e+09     BSc      75      80      70   \n",
      "\n",
      "   Marks4  \n",
      "0      90  \n",
      "1      70  \n",
      "2      80  \n",
      "3      75  \n",
      "4      85  \n",
      "5      90  \n",
      "6      80  \n",
      "\n",
      "\n"
     ]
    }
   ],
   "source": [
    "\n",
    "import pandas as pd\n",
    "import numpy as np\n",
    "\n",
    "#printing student data using csv file\n",
    "student = pd.read_csv(\"student_data.csv\")\n",
    "\n",
    "#printing first 7 records\n",
    "print(student.head(7))\n",
    "print('\\n')\n",
    "\n",
    "# #printing the column name\n",
    "# print(student.columns)\n",
    "# print('\\n')\n",
    "\n",
    "# #printing the statistical information of dataframe\n",
    "# print(student.describe())\n",
    "# print('\\n')\n",
    "\n",
    "# #printing all the records of dataframe in alphabetical orders\n",
    "# print(student.sort_values(by=['name']))\n",
    "# print('\\n')\n",
    "\n",
    "# #printing all the records of dataframe in a way that the students having highest marks display the first\n",
    "# print(student.sort_values(by=['Marks1','Marks2','Marks3','Marks4'], ascending=False))\n",
    "# print('\\n')\n",
    "\n",
    "# #Adding percentage column\n",
    "# student['percentage'] = ((student['Marks1'] + student['Marks2'] + student['Marks3'] + student['Marks4']) / 400) * 100\n",
    "# print(student['percentage'])\n",
    "# print('\\n')\n",
    "\n",
    "# #printing the details of students who lives in rajkot\n",
    "# print(student[student['city'] == 'Rajkot'])\n",
    "# print('\\n')\n",
    "\n",
    "# #printing the students who achieve the marks < 35\n",
    "# print(student[student['Marks1'] <= 35])\n",
    "# print('\\n')\n",
    "\n",
    "# # printing the students whose name starts with 'M'\n",
    "# print(student[student['name'].str.startswith('M')])\n",
    "# print('\\n')\n",
    "\n",
    "# #printing the student having maximum percentage\n",
    "# print(student[student['percentage'] == student['percentage'].max()])\n",
    "# print('\\n')\n",
    "\n",
    "# #printing the student having minimum percentage\n",
    "# print(student[student['percentage'] == student['percentage'].min()])\n",
    "# print('\\n')\n",
    "\n",
    "# #printing the students who study in BCA and MCA\n",
    "# print(student[student['Stream'].isin(['BCA', 'MCA'])])\n",
    "# print('\\n')\n",
    "\n",
    "\n",
    "# #Convert to CSV\n",
    "# student.to_csv('student_data.csv',index=False)"
   ]
  },
  {
   "cell_type": "code",
   "execution_count": null,
   "id": "3b822a89-9240-4e4a-8f14-3b21468e44b9",
   "metadata": {},
   "outputs": [],
   "source": []
  },
  {
   "cell_type": "code",
   "execution_count": null,
   "id": "f2691f8f-ed8b-4536-ada5-47fbcdc12470",
   "metadata": {},
   "outputs": [],
   "source": []
  },
  {
   "cell_type": "code",
   "execution_count": null,
   "id": "656d611c-170e-40cf-b39e-a39a21d1daa7",
   "metadata": {},
   "outputs": [],
   "source": []
  }
 ],
 "metadata": {
  "kernelspec": {
   "display_name": "Python 3 (ipykernel)",
   "language": "python",
   "name": "python3"
  },
  "language_info": {
   "codemirror_mode": {
    "name": "ipython",
    "version": 3
   },
   "file_extension": ".py",
   "mimetype": "text/x-python",
   "name": "python",
   "nbconvert_exporter": "python",
   "pygments_lexer": "ipython3",
   "version": "3.12.0"
  }
 },
 "nbformat": 4,
 "nbformat_minor": 5
}
