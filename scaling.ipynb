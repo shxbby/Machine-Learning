{
 "cells": [
  {
   "cell_type": "code",
   "execution_count": 1,
   "id": "fb061e61-4f49-49b0-bf59-973f81c04932",
   "metadata": {},
   "outputs": [
    {
     "name": "stdout",
     "output_type": "stream",
     "text": [
      "[[3 5]\n",
      " [7 4]\n",
      " [2 4]]\n",
      "[4.         4.33333333]\n",
      "[2.1602469  0.47140452]\n",
      "[[-1.          0.66666667]\n",
      " [ 3.         -0.33333333]\n",
      " [-2.         -0.33333333]]\n",
      "[[-0.46291005  1.41421356]\n",
      " [ 1.38873015 -0.70710678]\n",
      " [-0.9258201  -0.70710678]]\n",
      "[0.00000000e+00 5.92118946e-16]\n",
      "[0.00000000e+00 2.96059473e-16]\n"
     ]
    }
   ],
   "source": [
    "import numpy as np\n",
    "from sklearn import preprocessing \n",
    "\n",
    "data = np.array([[3,5],[7,4],[2,4]])\n",
    "print(data)\n",
    "\n",
    "#mean average\n",
    "mean_value= data.mean(axis=0)\n",
    "print(mean_value)\n",
    "\n",
    "#Standard Deviation\n",
    "std = data.std(axis=0)\n",
    "print(std)\n",
    "\n",
    "# Mean Removal\n",
    "final_val = data - mean_value\n",
    "print(final_val)\n",
    "# print(final_val.mean(axis=0))\n",
    "# print(final_val.std(axis=0))\n",
    "\n",
    "# Scale\n",
    "final = preprocessing.scale(data)\n",
    "print(final)\n",
    "print(final.mean(axis=0))\n",
    "print(final_val.mean(axis=0))"
   ]
  },
  {
   "cell_type": "code",
   "execution_count": 2,
   "id": "6eba4b1a-e0ea-4f5b-89c7-48ea31ccbaf2",
   "metadata": {},
   "outputs": [
    {
     "name": "stdout",
     "output_type": "stream",
     "text": [
      "   Year  Person   Male  Female\n",
      "0  1980   18.33  22.25   25.12\n",
      "1  1990   20.20  25.10   23.00\n",
      "2  2000   35.10  32.40   25.32\n",
      "3  2010   23.20  25.10   24.10\n",
      "4  2020   23.20  21.10   24.40\n",
      "\n",
      "\n",
      "   Person   Male  Female\n",
      "0   18.33  22.25   25.12\n",
      "1   20.20  25.10   23.00\n",
      "2   35.10  32.40   25.32\n",
      "3   23.20  25.10   24.10\n",
      "4   23.20  21.10   24.40\n",
      "\n",
      "\n",
      "Person    24.006\n",
      "Male      25.190\n",
      "Female    24.388\n",
      "dtype: float64\n",
      "Person    6.539853\n",
      "Male      4.398068\n",
      "Female    0.923861\n",
      "dtype: float64\n",
      "\n",
      "\n",
      "[-1.33226763e-16  7.54951657e-16  2.58092159e-15]\n",
      "[1. 1. 1.]\n",
      "\n",
      "\n"
     ]
    }
   ],
   "source": [
    "import pandas as pd\n",
    "import numpy as np\n",
    "from sklearn import preprocessing \n",
    "\n",
    "\n",
    "df=pd.read_csv('table.csv')\n",
    "print (df)\n",
    "print('\\n')\n",
    "\n",
    "data = df[['Person','Male','Female']]\n",
    "print(data)\n",
    "print('\\n')\n",
    "\n",
    "print(data.mean(axis=0))\n",
    "print(data.std(axis=0))\n",
    "print('\\n')\n",
    "\n",
    "mean_remove_data = preprocessing.scale(data)\n",
    "print(mean_remove_data.mean(axis=0))\n",
    "print(mean_remove_data.std(axis=0))\n",
    "print('\\n')\n"
   ]
  },
  {
   "cell_type": "markdown",
   "id": "e76e3aa5-bff7-464e-8d5b-6211ab97fe92",
   "metadata": {},
   "source": [
    "#Scaling"
   ]
  },
  {
   "cell_type": "code",
   "execution_count": 3,
   "id": "9190f86d-28bd-4711-b9c0-bdfaeca8c473",
   "metadata": {},
   "outputs": [
    {
     "name": "stdout",
     "output_type": "stream",
     "text": [
      "MinMaxScaler()\n",
      "[[0.2 1. ]\n",
      " [1.  0. ]\n",
      " [0.  0. ]]\n"
     ]
    }
   ],
   "source": [
    "data = np.array([[3,5],[7,4],[2,4]])\n",
    "scaller_model = preprocessing.MinMaxScaler()\n",
    "\n",
    "op1=scaller_model.fit(data)\n",
    "print(op1)\n",
    "\n",
    "op2 = op1.transform(data)\n",
    "print(op2)\n"
   ]
  },
  {
   "cell_type": "code",
   "execution_count": 4,
   "id": "b64637a4-ce4b-4375-bc26-5e031449f20f",
   "metadata": {},
   "outputs": [
    {
     "name": "stdout",
     "output_type": "stream",
     "text": [
      "[[0.2 1. ]\n",
      " [1.  0. ]\n",
      " [0.  0. ]]\n"
     ]
    }
   ],
   "source": [
    "\n",
    "data = np.array([[3,5],[7,4],[2,4]])\n",
    "scaller_model = preprocessing.MinMaxScaler()\n",
    "op=scaller_model.fit_transform(data)\n",
    "print(op)\n"
   ]
  },
  {
   "cell_type": "markdown",
   "id": "abd8eb19-e2b0-4df4-9e14-977da3254104",
   "metadata": {},
   "source": [
    "#Nomalization"
   ]
  },
  {
   "cell_type": "code",
   "execution_count": 5,
   "id": "45b1653a-983f-4186-b821-2ad9da470e8b",
   "metadata": {},
   "outputs": [
    {
     "name": "stdout",
     "output_type": "stream",
     "text": [
      "[[0.375      0.625     ]\n",
      " [0.63636364 0.36363636]\n",
      " [0.33333333 0.66666667]]\n"
     ]
    }
   ],
   "source": [
    "data = np.array([[3,5],[7,4],[2,4]])\n",
    "op = preprocessing.normalize(data,norm='l1')\n",
    "print(op)"
   ]
  },
  {
   "cell_type": "markdown",
   "id": "83a5fc3a-de7f-44da-a517-96bd5a188784",
   "metadata": {},
   "source": [
    "#Binarization"
   ]
  },
  {
   "cell_type": "code",
   "execution_count": 6,
   "id": "b352b0b2-43eb-4faa-af8f-82204fbf6ad8",
   "metadata": {},
   "outputs": [
    {
     "name": "stdout",
     "output_type": "stream",
     "text": [
      "[[3 5]\n",
      " [7 4]\n",
      " [2 4]]\n",
      "[[0 0]\n",
      " [1 0]\n",
      " [0 0]]\n"
     ]
    }
   ],
   "source": [
    "import numpy as np\n",
    "from sklearn import preprocessing \n",
    "\n",
    "data = np.array([[3,5],[7,4],[2,4]])\n",
    "binarized_data = preprocessing.Binarizer(threshold=5)\n",
    "op=binarized_data.fit_transform(data)\n",
    "print(data)\n",
    "print(op)"
   ]
  },
  {
   "cell_type": "markdown",
   "id": "0baaf2b0-dccf-4a1d-a873-b7e23c314970",
   "metadata": {},
   "source": [
    "#Label Encoding"
   ]
  },
  {
   "cell_type": "code",
   "execution_count": 10,
   "id": "5894bafc-76b2-4979-b397-d06eb68f5cf6",
   "metadata": {},
   "outputs": [
    {
     "name": "stdout",
     "output_type": "stream",
     "text": [
      "['Apple', 'Mango', 'Graps', 'Banana', 'papaya', 'Kiwi']\n",
      "[0 4 2 1 5 3]\n",
      "[4 3]\n"
     ]
    }
   ],
   "source": [
    "data = ['Apple','Mango','Graps','Banana','papaya','Kiwi']\n",
    "labeled_data=preprocessing.LabelEncoder()\n",
    "op = labeled_data.fit_transform(data)\n",
    "print(data)\n",
    "print(op)\n",
    "\n",
    "#testing the model\n",
    "\n",
    "test_data = ['Mango','Kiwi']\n",
    "test_op  = labeled_data.transform(test_data)\n",
    "print(test_op)\n",
    "\n",
    "#Inverse testing\n",
    "\n",
    "test_data = [2,0]\n",
    "test_op = labeled_data.inverse_transform(test_data)\n",
    "print(test_op)"
   ]
  },
  {
   "cell_type": "code",
   "execution_count": 12,
   "id": "3530829c-dbf1-4a5f-b9b8-50efbe13816f",
   "metadata": {},
   "outputs": [
    {
     "name": "stdout",
     "output_type": "stream",
     "text": [
      "[['Apple'], ['Mango'], ['Graps'], ['Banana'], ['papaya'], ['Kiwi']]\n",
      "[0 4 2 1 5 3]\n",
      "[4 3]\n"
     ]
    },
    {
     "name": "stderr",
     "output_type": "stream",
     "text": [
      "C:\\Users\\Matin\\AppData\\Roaming\\Python\\Python312\\site-packages\\sklearn\\preprocessing\\_label.py:114: DataConversionWarning: A column-vector y was passed when a 1d array was expected. Please change the shape of y to (n_samples, ), for example using ravel().\n",
      "  y = column_or_1d(y, warn=True)\n",
      "C:\\Users\\Matin\\AppData\\Roaming\\Python\\Python312\\site-packages\\sklearn\\preprocessing\\_label.py:132: DataConversionWarning: A column-vector y was passed when a 1d array was expected. Please change the shape of y to (n_samples, ), for example using ravel().\n",
      "  y = column_or_1d(y, dtype=self.classes_.dtype, warn=True)\n"
     ]
    }
   ],
   "source": [
    "data = [['Apple'],['Mango'],['Graps'],['Banana'],['papaya'],['Kiwi']]\n",
    "labeled_data=preprocessing.LabelEncoder()\n",
    "op = labeled_data.fit_transform(data)\n",
    "print(data)\n",
    "print(op)\n",
    "\n",
    "\n",
    "#testing the model\n",
    "\n",
    "test_data = [['Mango'],['Kiwi']]\n",
    "test_op  = labeled_data.transform(test_data)\n",
    "print(test_op)\n",
    "\n",
    "#in"
   ]
  },
  {
   "cell_type": "code",
   "execution_count": null,
   "id": "faa3cba4-cd55-4556-8df4-9f46388b34ac",
   "metadata": {},
   "outputs": [],
   "source": []
  }
 ],
 "metadata": {
  "kernelspec": {
   "display_name": "Python 3 (ipykernel)",
   "language": "python",
   "name": "python3"
  },
  "language_info": {
   "codemirror_mode": {
    "name": "ipython",
    "version": 3
   },
   "file_extension": ".py",
   "mimetype": "text/x-python",
   "name": "python",
   "nbconvert_exporter": "python",
   "pygments_lexer": "ipython3",
   "version": "3.12.0"
  }
 },
 "nbformat": 4,
 "nbformat_minor": 5
}
