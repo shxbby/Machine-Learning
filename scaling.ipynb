{
 "cells": [
  {
   "cell_type": "code",
   "execution_count": 7,
   "id": "fb061e61-4f49-49b0-bf59-973f81c04932",
   "metadata": {},
   "outputs": [
    {
     "name": "stdout",
     "output_type": "stream",
     "text": [
      "[[3 5]\n",
      " [7 4]\n",
      " [2 4]]\n",
      "[4.         4.33333333]\n",
      "[2.1602469  0.47140452]\n",
      "[[-1.          0.66666667]\n",
      " [ 3.         -0.33333333]\n",
      " [-2.         -0.33333333]]\n",
      "[[-0.46291005  1.41421356]\n",
      " [ 1.38873015 -0.70710678]\n",
      " [-0.9258201  -0.70710678]]\n",
      "[0.00000000e+00 5.92118946e-16]\n",
      "[0.00000000e+00 2.96059473e-16]\n"
     ]
    }
   ],
   "source": [
    "import numpy as np\n",
    "from sklearn import preprocessing \n",
    "\n",
    "data = np.array([[3,5],[7,4],[2,4]])\n",
    "print(data)\n",
    "\n",
    "#mean average\n",
    "mean_value= data.mean(axis=0)\n",
    "print(mean_value)\n",
    "\n",
    "#Standard Deviation\n",
    "std = data.std(axis=0)\n",
    "print(std)\n",
    "\n",
    "# Mean Removal\n",
    "final_val = data - mean_value\n",
    "print(final_val)\n",
    "# print(final_val.mean(axis=0))\n",
    "# print(final_val.std(axis=0))\n",
    "\n",
    "# Scale\n",
    "final = preprocessing.scale(data)\n",
    "print(final)\n",
    "print(final.mean(axis=0))\n",
    "print(final_val.mean(axis=0))"
   ]
  },
  {
   "cell_type": "code",
   "execution_count": 21,
   "id": "6eba4b1a-e0ea-4f5b-89c7-48ea31ccbaf2",
   "metadata": {},
   "outputs": [
    {
     "name": "stdout",
     "output_type": "stream",
     "text": [
      "   Year  Person   Male  Female\n",
      "0  1980   18.33  22.25   25.12\n",
      "1  1990   20.20  25.10   23.00\n",
      "2  2000   35.10  32.40   25.32\n",
      "3  2010   23.20  25.10   24.10\n",
      "4  2020   23.20  21.10   24.40\n",
      "\n",
      "\n",
      "   Person   Male  Female\n",
      "0   18.33  22.25   25.12\n",
      "1   20.20  25.10   23.00\n",
      "2   35.10  32.40   25.32\n",
      "3   23.20  25.10   24.10\n",
      "4   23.20  21.10   24.40\n",
      "\n",
      "\n",
      "Person    24.006\n",
      "Male      25.190\n",
      "Female    24.388\n",
      "dtype: float64\n",
      "Person    6.539853\n",
      "Male      4.398068\n",
      "Female    0.923861\n",
      "dtype: float64\n",
      "\n",
      "\n",
      "[-1.33226763e-16  7.54951657e-16  2.58092159e-15]\n",
      "[1. 1. 1.]\n",
      "\n",
      "\n"
     ]
    }
   ],
   "source": [
    "import pandas as pd\n",
    "import numpy as np\n",
    "from sklearn import preprocessing \n",
    "\n",
    "\n",
    "df=pd.read_csv('table.csv')\n",
    "print (df)\n",
    "print('\\n')\n",
    "\n",
    "data = df[['Person','Male','Female']]\n",
    "print(data)\n",
    "print('\\n')\n",
    "\n",
    "print(data.mean(axis=0))\n",
    "print(data.std(axis=0))\n",
    "print('\\n')\n",
    "\n",
    "mean_remove_data = preprocessing.scale(data)\n",
    "print(mean_remove_data.mean(axis=0))\n",
    "print(mean_remove_data.std(axis=0))\n",
    "print('\\n')\n"
   ]
  },
  {
   "cell_type": "markdown",
   "id": "e76e3aa5-bff7-464e-8d5b-6211ab97fe92",
   "metadata": {},
   "source": [
    "#Scaling"
   ]
  },
  {
   "cell_type": "code",
   "execution_count": 25,
   "id": "9190f86d-28bd-4711-b9c0-bdfaeca8c473",
   "metadata": {},
   "outputs": [
    {
     "name": "stdout",
     "output_type": "stream",
     "text": [
      "MinMaxScaler()\n",
      "[[0.2 1. ]\n",
      " [1.  0. ]\n",
      " [0.  0. ]]\n"
     ]
    }
   ],
   "source": [
    "data = np.array([[3,5],[7,4],[2,4]])\n",
    "scaller_model = preprocessing.MinMaxScaler()\n",
    "\n",
    "op1=scaller_model.fit(data)\n",
    "print(op1)\n",
    "\n",
    "op2 = op1.transform(data)\n",
    "print(op2)\n"
   ]
  },
  {
   "cell_type": "code",
   "execution_count": 26,
   "id": "b64637a4-ce4b-4375-bc26-5e031449f20f",
   "metadata": {},
   "outputs": [
    {
     "name": "stdout",
     "output_type": "stream",
     "text": [
      "[[0.2 1. ]\n",
      " [1.  0. ]\n",
      " [0.  0. ]]\n"
     ]
    }
   ],
   "source": [
    "\n",
    "data = np.array([[3,5],[7,4],[2,4]])\n",
    "scaller_model = preprocessing.MinMaxScaler()\n",
    "op=scaller_model.fit_transform(data)\n",
    "print(op)\n"
   ]
  },
  {
   "cell_type": "code",
   "execution_count": null,
   "id": "8470026c-02cf-473f-8b1b-a476798d854c",
   "metadata": {},
   "outputs": [],
   "source": []
  }
 ],
 "metadata": {
  "kernelspec": {
   "display_name": "Python 3 (ipykernel)",
   "language": "python",
   "name": "python3"
  },
  "language_info": {
   "codemirror_mode": {
    "name": "ipython",
    "version": 3
   },
   "file_extension": ".py",
   "mimetype": "text/x-python",
   "name": "python",
   "nbconvert_exporter": "python",
   "pygments_lexer": "ipython3",
   "version": "3.12.0"
  }
 },
 "nbformat": 4,
 "nbformat_minor": 5
}
